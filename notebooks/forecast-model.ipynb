{
 "cells": [
  {
   "cell_type": "markdown",
   "id": "999fc716-d5c5-4544-9e9e-b492dcd4536e",
   "metadata": {},
   "source": [
    "### Step 00: Getting Started \n",
    "**Business Problem**:\n",
    "\n",
    "**Notebook Instruction**: \n",
    "The notebook requires you to import a set of built-in and third-party libraries as seen in the \"import library\" section below. If any of the packages is missing, please install the missing package via pip o conda. (Personally I prefer conda)\n",
    "\n",
    "**Contact**:\n",
    "If you have any question, email Waldo V (Data Scientist): panditas.datascientist@gmail.com"
   ]
  },
  {
   "cell_type": "code",
   "execution_count": 25,
   "id": "0e7879b7-e732-496f-8a53-955246cc9525",
   "metadata": {},
   "outputs": [
    {
     "data": {
      "text/plain": [
       "'Algorithms'"
      ]
     },
     "execution_count": 25,
     "metadata": {},
     "output_type": "execute_result"
    }
   ],
   "source": [
    "'''Main libraries'''\n",
    "import pandas as pd\n",
    "from pandas import DataFrame, Series\n",
    "import numpy as np\n",
    "import os, sys\n",
    "from datetime import timedelta\n",
    "import matplotlib.dates as mdates\n",
    "import matplotlib.pyplot as plt \n",
    "from matplotlib.ticker import MultipleLocator\n",
    "import seaborn as sns\n",
    "\n",
    "'''Local functions'''\n",
    "project_path = os.path.abspath('../')\n",
    "sys.path.append(project_path)\n",
    "from models.functions import (load_dataset, \n",
    "    wide_to_long, map_dates)\n",
    "\n",
    "'''Data prep'''\n",
    "from sklearn.model_selection import train_test_split\n",
    "from sklearn.metrics import mean_squared_error\n",
    "# from sklearn.metrics import confusion_matrix, classification_report\n",
    "\n",
    "'''Algorithms'''\n",
    "# import xgboost as xgb\n",
    "# import xgboost as xgb"
   ]
  },
  {
   "cell_type": "markdown",
   "id": "92d59110-e86d-48cf-a1a0-1eadedbeeeaa",
   "metadata": {},
   "source": [
    "### Step 01: Data Cleaning\n",
    "- Reshape dataframe: from wide to long format\n",
    "- Summarize units sold by store, sku, and weekly\n",
    "- Assign real weekly dates"
   ]
  },
  {
   "cell_type": "code",
   "execution_count": 27,
   "id": "8eab3e5b-027c-4e03-a5b2-eae200b826cc",
   "metadata": {},
   "outputs": [
    {
     "name": "stdout",
     "output_type": "stream",
     "text": [
      "    Scode Pcode    Price  Wk0  Wk1  Wk2  Wk3  Wk4  Wk5  Wk6  ...  Wk96  Wk97  \\\n",
      "0  Store1  SKU1  $24.00    23   48   47   42   22   29   47  ...    33    40   \n",
      "1  Store1  SKU2  $63.00    23   22   25   40   32   26   30  ...    25    50   \n",
      "2  Store1  SKU3  $93.00     7   11    8    9   10    8    7  ...    13    30   \n",
      "3  Store1  SKU4  $48.00    50   31   50   33   26   27   42  ...    26    23   \n",
      "4  Store1  SKU5  $62.00     8    5   13   11    6    7    9  ...    15    21   \n",
      "\n",
      "   Wk98  Wk99  Wk100  Wk101  Wk102  Wk103  Unnamed: 107  94  \n",
      "0   125   133    229    381     21     31           NaN NaN  \n",
      "1    75    95    231    590     25     33           NaN NaN  \n",
      "2    67   188    267    330     35     33           NaN NaN  \n",
      "3    92   126    205    357     30     34           NaN NaN  \n",
      "4    93   243    710   1872     33     10           NaN NaN  \n",
      "\n",
      "[5 rows x 109 columns]\n"
     ]
    }
   ],
   "source": [
    "# loading csv\n",
    "df_sales = load_dataset('../data/product_sales_dataset_weekly.csv')\n",
    "print(df_sales.head())"
   ]
  },
  {
   "cell_type": "code",
   "execution_count": 28,
   "id": "a85af423-8304-4ac1-b7f3-cb396a66ce75",
   "metadata": {},
   "outputs": [],
   "source": [
    "# reshape dataframe: From wide to long dataframe \n",
    "df = wide_to_long(df_sales)\n",
    "# summarize dataframe: The df has different prices for some values ['weekly', 'store', 'price'], and for \n",
    "# the first iteration, we'll omit price column\n",
    "df = df.groupby(['store','item','weekly'], as_index=False )['units'].sum()\n",
    "# assign real dates: map weekly columns to real dates\n",
    "df['weekly_date'] = df['weekly'].apply(map_dates)"
   ]
  },
  {
   "cell_type": "code",
   "execution_count": 29,
   "id": "45ee93b4-3d83-4e59-a11b-19c27e2d964a",
   "metadata": {},
   "outputs": [
    {
     "name": "stdout",
     "output_type": "stream",
     "text": [
      "    store  item weekly  units weekly_date\n",
      "0  Store1  SKU1    Wk0     23  2023-01-07\n",
      "1  Store1  SKU1    Wk1     48  2023-01-14\n",
      "2  Store1  SKU1   Wk10     27  2023-03-18\n",
      "3  Store1  SKU1  Wk100    229  2024-12-07\n",
      "4  Store1  SKU1  Wk101    381  2024-12-14\n"
     ]
    }
   ],
   "source": [
    "print(df.head())"
   ]
  },
  {
   "cell_type": "code",
   "execution_count": null,
   "id": "5c7de77a-5590-4ab4-a715-7bcd50c34364",
   "metadata": {},
   "outputs": [],
   "source": []
  },
  {
   "cell_type": "code",
   "execution_count": 30,
   "id": "fad69035-72c9-41de-a451-14e837786020",
   "metadata": {},
   "outputs": [
    {
     "data": {
      "image/png": "[encoded data removed]",
      "text/plain": [
       "<Figure size 1200x500 with 1 Axes>"
      ]
     },
     "metadata": {},
     "output_type": "display_data"
    }
   ],
   "source": [
    "# copy df dataframe as df_viz\n",
    "df_viz = df.copy()\n",
    "df_viz = df_viz.groupby(['weekly_date', 'store'], as_index=False)['units'].sum()\n",
    "df_viz = df_viz.set_index('weekly_date')\n",
    "# set the color palette\n",
    "colors = sns.color_palette()\n",
    "c1, c2 = colors[0], colors[1]\n",
    "\n",
    "# plot data\n",
    "f, ax = plt.subplots(figsize=(12, 5))\n",
    "plt.plot(df_viz[df_viz['store'] == 'Store1'].index, df_viz[df_viz['store'] == 'Store1']['units'])\n",
    "\n",
    "plt.show()"
   ]
  },
  {
   "cell_type": "code",
   "execution_count": null,
   "id": "6ff7c919-3bb6-4218-b74d-c9d30307961c",
   "metadata": {},
   "outputs": [],
   "source": []
  }
 ],
 "metadata": {
  "kernelspec": {
   "display_name": "Python 3 (ipykernel)",
   "language": "python",
   "name": "python3"
  },
  "language_info": {
   "codemirror_mode": {
    "name": "ipython",
    "version": 3
   },
   "file_extension": ".py",
   "mimetype": "text/x-python",
   "name": "python",
   "nbconvert_exporter": "python",
   "pygments_lexer": "ipython3",
   "version": "3.11.9"
  }
 },
 "nbformat": 4,
 "nbformat_minor": 5
}
