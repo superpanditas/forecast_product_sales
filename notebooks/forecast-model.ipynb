{
 "cells": [
  {
   "cell_type": "code",
   "execution_count": 4,
   "id": "0e7879b7-e732-496f-8a53-955246cc9525",
   "metadata": {},
   "outputs": [
    {
     "data": {
      "text/plain": [
       "'Algorithms'"
      ]
     },
     "execution_count": 4,
     "metadata": {},
     "output_type": "execute_result"
    }
   ],
   "source": [
    "'''Main libraries'''\n",
    "import pandas as pd\n",
    "from pandas import DataFrame, Series\n",
    "import numpy as np\n",
    "import os, sys\n",
    "from datetime import timedelta\n",
    "\n",
    "'''Local functions'''\n",
    "project_path = os.path.abspath('../')\n",
    "sys.path.append(project_path)\n",
    "from models.functions import (load_dataset, \n",
    "    wide_to_long, map_dates)\n",
    "\n",
    "'''Data prep'''\n",
    "from sklearn.model_selection import train_test_split\n",
    "from sklearn.metrics import mean_squared_error\n",
    "# from sklearn.metrics import confusion_matrix, classification_report\n",
    "\n",
    "'''Algorithms'''\n",
    "# import xgboost as xgb\n",
    "# import xgboost as xgb"
   ]
  },
  {
   "cell_type": "code",
   "execution_count": 39,
   "id": "8eab3e5b-027c-4e03-a5b2-eae200b826cc",
   "metadata": {},
   "outputs": [],
   "source": [
    "# importing libraries\n",
    "df_sales = load_dataset('../data/product_sales_dataset_weekly.csv')\n",
    "# reshape dataframe: From wide to long dataframe \n",
    "df = wide_to_long(df_sales)\n",
    "# summarize dataframe: The df has different prices for some values ['weekly', 'store', 'price'], and for \n",
    "# the first iteration, we'll omit price column\n",
    "df = df.groupby(['store','item','weekly'], as_index=False )['units'].sum()"
   ]
  },
  {
   "cell_type": "code",
   "execution_count": 34,
   "id": "5bee82a2-9f80-4df9-9524-3e7d7e4ebf16",
   "metadata": {},
   "outputs": [],
   "source": [
    "# assign real dates: map weekly columns to real dates\n",
    "def map_dates(weekly):\n",
    "    init_week = pd.to_datetime('2023-01-07')\n",
    "    week_num = int(weekly[2:])\n",
    "    return init_week + timedelta(weeks=week_num)\n",
    "    \n",
    "df['weekly_date'] = df['weekly'].apply(map_dates)"
   ]
  },
  {
   "cell_type": "code",
   "execution_count": 35,
   "id": "45ee93b4-3d83-4e59-a11b-19c27e2d964a",
   "metadata": {},
   "outputs": [
    {
     "name": "stdout",
     "output_type": "stream",
     "text": [
      "    store  item weekly  units weekly_date\n",
      "0  Store1  SKU1    Wk0     23  2023-01-07\n",
      "1  Store1  SKU1    Wk1     48  2023-01-14\n",
      "2  Store1  SKU1   Wk10     27  2023-03-18\n",
      "3  Store1  SKU1  Wk100    229  2024-12-07\n",
      "4  Store1  SKU1  Wk101    381  2024-12-14\n"
     ]
    }
   ],
   "source": [
    "print(df.head())"
   ]
  },
  {
   "cell_type": "code",
   "execution_count": null,
   "id": "5c7de77a-5590-4ab4-a715-7bcd50c34364",
   "metadata": {},
   "outputs": [],
   "source": []
  },
  {
   "cell_type": "code",
   "execution_count": null,
   "id": "fad69035-72c9-41de-a451-14e837786020",
   "metadata": {},
   "outputs": [],
   "source": []
  },
  {
   "cell_type": "code",
   "execution_count": null,
   "id": "6ff7c919-3bb6-4218-b74d-c9d30307961c",
   "metadata": {},
   "outputs": [],
   "source": []
  }
 ],
 "metadata": {
  "kernelspec": {
   "display_name": "Python 3 (ipykernel)",
   "language": "python",
   "name": "python3"
  },
  "language_info": {
   "codemirror_mode": {
    "name": "ipython",
    "version": 3
   },
   "file_extension": ".py",
   "mimetype": "text/x-python",
   "name": "python",
   "nbconvert_exporter": "python",
   "pygments_lexer": "ipython3",
   "version": "3.11.9"
  }
 },
 "nbformat": 4,
 "nbformat_minor": 5
}
